{
 "cells": [
  {
   "cell_type": "code",
   "execution_count": 1,
   "metadata": {},
   "outputs": [],
   "source": [
    "import numpy as np\n",
    "\n",
    "class CG:\n",
    "    # Clebsch-Gordan coefficient class containg all important parameters and a function to check if the m values are in range\n",
    "    def __init__(self, j1: float, m1: float, j2: float, m2: float, J: float, M: float):\n",
    "        \n",
    "        self.j1 = j1\n",
    "        self.m1 = m1\n",
    "        self.j2 = j2\n",
    "        self.m2 = m2\n",
    "        self.J = J\n",
    "        self.M = M\n",
    "        \n",
    "        self.Value = 0\n",
    "        \n",
    "    def __repr__(self) -> str:\n",
    "        return f\"C({self.j1} {self.m1} {self.j2} {self.m2}|{self.J},{self.M}) = {self.Value}\"\n",
    "    \n",
    "    def IsRangeValid(self) -> bool:\n",
    "        return (self.m2>=-self.j2 and self.m1>=-self.j1 and self.M>=-self.J) and (self.m2<=self.j2 and self.m1<=self.j1 and self.M<=self.J)\n",
    "\n",
    "\n",
    "def ClebschGordan(j1: float, j2: float, J: float):\n",
    "    # The main algorithm that receives the starting parameters\n",
    "    # The output is the non-zero Clebsch-Gordan coefficients\n",
    "    if J < abs(j1-j2) or J > j1+j2:\n",
    "        raise Exception(\"Paramteres does not satisfy |j1-j2|<=J<=j1+j2\")\n",
    "    \n",
    "    M = np.arange(-J, J+1, 1)[::-1]\n",
    "    m1 = np.arange(-j1, j1+1, 1)[::-1]\n",
    "    m2 = np.arange(-j2, j2+1, 1)[::-1]\n",
    "    \n",
    "    cglist = CreateInitialCGList(j1, m1, j2, m2, J)\n",
    "    \n",
    "    for curr_M in M:\n",
    "        for curr_m1 in m1:\n",
    "            for curr_m2 in m2:\n",
    "                cgjm = CgJM(cglist, j1, curr_m1, j2, curr_m2, J, curr_M)\n",
    "                if cgjm.Value != 0:\n",
    "                    cglist.append(cgjm)\n",
    "            \n",
    "    return cglist\n",
    "\n",
    "def CreateInitialCGList(j1, m1, j2, m2, J):\n",
    "    # Initial possible Clebsch-Gordan coefficients in the J = M state that satisfies the condition that m1 + m2 = M\n",
    "    cglist: list[CG] = []\n",
    "\n",
    "    for curr_m1 in m1:\n",
    "        for curr_m2 in m2:\n",
    "            if curr_m1 + curr_m2 == J:\n",
    "                cglist.append(CG(j1, curr_m1, j2, curr_m2, J, J))\n",
    "\n",
    "    CalcInitialValues(cglist)\n",
    "    \n",
    "    return cglist\n",
    "\n",
    "def CalcInitialValues(cglist: list[CG]):\n",
    "    # Calculation of the initial Clebsch-Gordan coefficiant using the initiak recursion relation\n",
    "    ss: list[float] = [1]\n",
    "\n",
    "    for i, cg in enumerate(cglist):\n",
    "        s = DivCalc(cg.j1, cg.m1, cg.j2, cg.m2, cg.J) * ss[i]\n",
    "        ss.append(s)\n",
    "    \n",
    "    sums = sum(ss[1:])\n",
    "\n",
    "    cglist[0].Value = np.sqrt(1/(1+sums))\n",
    "\n",
    "    for i in range(1, len(cglist)):\n",
    "        cg = cglist[i]\n",
    "        pcg = cglist[i-1]\n",
    "        cg.Value = pcg.Value * -np.sqrt(DivCalc(pcg.j1, pcg.m1, pcg.j2, pcg.m2, pcg.J))\n",
    "    \n",
    "def DivCalc(j1, m1, j2, m2, J):\n",
    "    # Function to calculate the fraction of the ladder coefficients\n",
    "    m2 = m2+1\n",
    "    a = j2*(j2+1)-m2*(m2-1)\n",
    "    b = j1*(j1+1)-m1*(m1-1)\n",
    "    return 0 if b == 0 else a/b\n",
    "\n",
    "def CgJM(l: list[CG],j1, m1, j2, m2, J, M) -> CG:\n",
    "    # Function to calculate the M = J-1... states by using the lower-sign recursion relation\n",
    "    cg_m = CG(j1, m1, j2, m2, J, M-1)\n",
    "\n",
    "    if cg_m.IsRangeValid():\n",
    "\n",
    "        cg_m1_value = SelectCG(l,j1, m1 + 1, j2, m2, J, M)\n",
    "        cg_m2_value = SelectCG(l,j1, m1, j2, m2 + 1, J, M)\n",
    "\n",
    "        cg_m.Value = \\\n",
    "        (np.sqrt(j1 * (j1 + 1) - m1 * (m1 + 1)) / np.sqrt(J * (J + 1) - M * (M - 1))) * cg_m1_value \\\n",
    "        + \\\n",
    "        (np.sqrt(j2 * (j2 + 1) - m2 * (m2 + 1)) / np.sqrt(J * (J + 1) - M * (M - 1))) * cg_m2_value\n",
    "\n",
    "    return cg_m\n",
    "\n",
    "def SelectCG(l: list[CG],j1, m1, j2, m2, J, M) -> float:\n",
    "\n",
    "    for cg in l:\n",
    "        if cg.J == J \\\n",
    "        and cg.j1 == j1 \\\n",
    "        and cg.j2 == j2 \\\n",
    "        and cg.M == M \\\n",
    "        and cg.m1 == m1 \\\n",
    "        and cg.m2 == m2 :\n",
    "            return cg.Value\n",
    "\n",
    "    return 0.0"
   ]
  },
  {
   "cell_type": "code",
   "execution_count": 2,
   "metadata": {},
   "outputs": [
    {
     "data": {
      "text/plain": [
       "[C(1.0 1.0 1.0 0.0|1.0,1.0) = 0.7071067811865476,\n",
       " C(1.0 0.0 1.0 1.0|1.0,1.0) = -0.7071067811865476,\n",
       " C(1.0 1.0 1.0 -1.0|1.0,0.0) = 0.7071067811865476,\n",
       " C(1.0 -1.0 1.0 1.0|1.0,0.0) = -0.7071067811865476,\n",
       " C(1.0 0.0 1.0 -1.0|1.0,-1.0) = 0.7071067811865476,\n",
       " C(1.0 -1.0 1.0 0.0|1.0,-1.0) = -0.7071067811865476]"
      ]
     },
     "execution_count": 2,
     "metadata": {},
     "output_type": "execute_result"
    }
   ],
   "source": [
    "ClebschGordan(1.0, 1.0, 1.0)"
   ]
  },
  {
   "cell_type": "code",
   "execution_count": 3,
   "metadata": {},
   "outputs": [
    {
     "data": {
      "text/plain": [
       "[C(1.0 1.0 1.0 -1.0|0.0,0.0) = 0.5773502691896257,\n",
       " C(1.0 0.0 1.0 0.0|0.0,0.0) = -0.5773502691896257,\n",
       " C(1.0 -1.0 1.0 1.0|0.0,0.0) = 0.5773502691896257]"
      ]
     },
     "execution_count": 3,
     "metadata": {},
     "output_type": "execute_result"
    }
   ],
   "source": [
    "ClebschGordan(1.0, 1.0, 0.0)"
   ]
  },
  {
   "cell_type": "code",
   "execution_count": 4,
   "metadata": {},
   "outputs": [
    {
     "data": {
      "text/plain": [
       "[C(1.0 1.0 1.0 1.0|2.0,2.0) = 1.0,\n",
       " C(1.0 1.0 1.0 0.0|2.0,1.0) = 0.7071067811865476,\n",
       " C(1.0 0.0 1.0 1.0|2.0,1.0) = 0.7071067811865476,\n",
       " C(1.0 1.0 1.0 -1.0|2.0,0.0) = 0.4082482904638631,\n",
       " C(1.0 0.0 1.0 0.0|2.0,0.0) = 0.8164965809277261,\n",
       " C(1.0 -1.0 1.0 1.0|2.0,0.0) = 0.4082482904638631,\n",
       " C(1.0 0.0 1.0 -1.0|2.0,-1.0) = 0.7071067811865477,\n",
       " C(1.0 -1.0 1.0 0.0|2.0,-1.0) = 0.7071067811865477,\n",
       " C(1.0 -1.0 1.0 -1.0|2.0,-2.0) = 1.0000000000000002]"
      ]
     },
     "execution_count": 4,
     "metadata": {},
     "output_type": "execute_result"
    }
   ],
   "source": [
    "ClebschGordan(1.0, 1.0, 2.0)"
   ]
  },
  {
   "cell_type": "code",
   "execution_count": 5,
   "metadata": {},
   "outputs": [
    {
     "data": {
      "text/plain": [
       "[C(1.5 1.5 2.5 0.5|2,2) = 0.3779644730092272,\n",
       " C(1.5 0.5 2.5 1.5|2,2) = -0.6172133998483675,\n",
       " C(1.5 -0.5 2.5 2.5|2,2) = 0.6900655593423541,\n",
       " C(1.5 1.5 2.5 -0.5|2,1) = 0.5669467095138407,\n",
       " C(1.5 0.5 2.5 0.5|2,1) = -0.5455447255899809,\n",
       " C(1.5 -0.5 2.5 1.5|2,1) = 0.15430334996209194,\n",
       " C(1.5 -1.5 2.5 2.5|2,1) = 0.5976143046671967,\n",
       " C(1.5 1.5 2.5 -1.5|2,0) = 0.6546536707079771,\n",
       " C(1.5 0.5 2.5 -0.5|2,0) = -0.2672612419124244,\n",
       " C(1.5 -0.5 2.5 0.5|2,0) = -0.2672612419124244,\n",
       " C(1.5 -1.5 2.5 1.5|2,0) = 0.6546536707079771,\n",
       " C(1.5 1.5 2.5 -2.5|2,-1) = 0.5976143046671969,\n",
       " C(1.5 0.5 2.5 -1.5|2,-1) = 0.15430334996209183,\n",
       " C(1.5 -0.5 2.5 -0.5|2,-1) = -0.545544725589981,\n",
       " C(1.5 -1.5 2.5 0.5|2,-1) = 0.5669467095138409,\n",
       " C(1.5 0.5 2.5 -2.5|2,-2) = 0.6900655593423541,\n",
       " C(1.5 -0.5 2.5 -1.5|2,-2) = -0.6172133998483679,\n",
       " C(1.5 -1.5 2.5 -0.5|2,-2) = 0.37796447300922725]"
      ]
     },
     "execution_count": 5,
     "metadata": {},
     "output_type": "execute_result"
    }
   ],
   "source": [
    "ClebschGordan(1.5, 2.5, 2)"
   ]
  },
  {
   "cell_type": "code",
   "execution_count": null,
   "metadata": {},
   "outputs": [],
   "source": []
  }
 ],
 "metadata": {
  "kernelspec": {
   "display_name": "Python 3",
   "language": "python",
   "name": "python3"
  },
  "language_info": {
   "codemirror_mode": {
    "name": "ipython",
    "version": 3
   },
   "file_extension": ".py",
   "mimetype": "text/x-python",
   "name": "python",
   "nbconvert_exporter": "python",
   "pygments_lexer": "ipython3",
   "version": "3.10.9"
  },
  "orig_nbformat": 4,
  "vscode": {
   "interpreter": {
    "hash": "1cedfea7c8b00ac0d9be3d88d4651d5fcbd743da9c271c18ff23c0873750592e"
   }
  }
 },
 "nbformat": 4,
 "nbformat_minor": 2
}
