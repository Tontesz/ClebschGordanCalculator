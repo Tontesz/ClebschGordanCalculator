{
 "cells": [
  {
   "cell_type": "code",
   "execution_count": 160,
   "metadata": {},
   "outputs": [],
   "source": [
    "import numpy as np"
   ]
  },
  {
   "cell_type": "code",
   "execution_count": 161,
   "metadata": {},
   "outputs": [],
   "source": [
    "class CG:\n",
    "    \n",
    "    def __init__(self, j1: float, m1: float, j2: float, m2: float, J: float, M: float):\n",
    "        \n",
    "        self.j1 = j1\n",
    "        self.m1 = m1\n",
    "        self.j2 = j2\n",
    "        self.m2 = m2\n",
    "        self.J = J\n",
    "        self.M = M\n",
    "        \n",
    "        self.Value = 0\n",
    "        \n",
    "    def __repr__(self) -> str:\n",
    "        return f\"C({self.j1} {self.m1} {self.j2} {self.m2}|{self.J},{self.M}) = {self.Value}\"\n",
    "\n",
    "def ClebschGordan(j1: float, j2: float, J: float):\n",
    "\n",
    "    if J < abs(j1-j2) or J > j1+j2:\n",
    "        raise Exception(\"Paramteres does not satisfy |j1-j2|<=J<=j1+j2\")\n",
    "    \n",
    "    M = np.arange(-J, J+1, 1)[::-1]\n",
    "    m1 = np.arange(-j1, j1+1, 1)[::-1]\n",
    "    m2 = np.arange(-j2, j2+1, 1)[::-1]\n",
    "    \n",
    "    cglist = CreateInitialCGList(j1, m1, j2, m2, J)\n",
    "    \n",
    "    \n",
    "    return cglist\n",
    "\n",
    "def CreateInitialCGList(j1, m1, j2, m2, J):\n",
    "    \n",
    "    m1 = np.arange(-j1, j1+1, 1)\n",
    "    m2 = np.arange(-j2, j2+1, 1)\n",
    "\n",
    "    cglist: list[CG] = []\n",
    "\n",
    "    for curr_m1 in m1:\n",
    "        for curr_m2 in m2:\n",
    "            if curr_m1 + curr_m2 == J:\n",
    "                cglist.append(CG(j1, curr_m1, j2, curr_m2, J, J))\n",
    "\n",
    "    CalcInitialValues(cglist)\n",
    "    \n",
    "    return cglist\n",
    "\n",
    "def CalcInitialValues(cglist: list[CG]):\n",
    "    ss: list[float] = [1]\n",
    "\n",
    "    for i, cg in enumerate(cglist):\n",
    "        print(i)\n",
    "        s = DivCalc(cg.j1, cg.m1, cg.j2, cg.m2, cg.J) * ss[i]\n",
    "        print(s)\n",
    "        ss.append(s)\n",
    "        print(ss)\n",
    "    \n",
    "    sums = sum(ss)\n",
    "\n",
    "    cglist[0].Value = np.sqrt(1/(1+sums))\n",
    "\n",
    "    for i in range(len(cglist)):\n",
    "        cg = cglist[i]\n",
    "        pcg = cglist[i-1]\n",
    "        cg.Value = pcg.Value * -np.sqrt(DivCalc(pcg.j1, pcg.m1, pcg.j2, pcg.m2, pcg.J))\n",
    "    \n",
    "def DivCalc(j1, m1, j2, m2, J):\n",
    "\n",
    "    m2 = m2+1\n",
    "    a = j2*(j2+1)-m2*(m2-1)\n",
    "    b = j1*(j1+1)-m1*(m1-1)\n",
    "    print(f\"a/b = {a/b}\")\n",
    "    return 0 if b == 0 else a/b"
   ]
  },
  {
   "cell_type": "code",
   "execution_count": 162,
   "metadata": {},
   "outputs": [
    {
     "name": "stdout",
     "output_type": "stream",
     "text": [
      "0\n",
      "a/b = 0.0\n",
      "0.0\n",
      "[1, 0.0]\n",
      "1\n",
      "a/b = 1.0\n",
      "0.0\n",
      "[1, 0.0, 0.0]\n",
      "a/b = 1.0\n",
      "a/b = 0.0\n"
     ]
    },
    {
     "data": {
      "text/plain": [
       "[C(1.0 0.0 1.0 1.0|1.0,1.0) = -0.0, C(1.0 1.0 1.0 0.0|1.0,1.0) = 0.0]"
      ]
     },
     "execution_count": 162,
     "metadata": {},
     "output_type": "execute_result"
    }
   ],
   "source": [
    "ClebschGordan(1.0, 1.0, 1.0)"
   ]
  },
  {
   "cell_type": "code",
   "execution_count": null,
   "metadata": {},
   "outputs": [],
   "source": []
  }
 ],
 "metadata": {
  "kernelspec": {
   "display_name": "Python 3",
   "language": "python",
   "name": "python3"
  },
  "language_info": {
   "codemirror_mode": {
    "name": "ipython",
    "version": 3
   },
   "file_extension": ".py",
   "mimetype": "text/x-python",
   "name": "python",
   "nbconvert_exporter": "python",
   "pygments_lexer": "ipython3",
   "version": "3.10.9"
  },
  "orig_nbformat": 4,
  "vscode": {
   "interpreter": {
    "hash": "1cedfea7c8b00ac0d9be3d88d4651d5fcbd743da9c271c18ff23c0873750592e"
   }
  }
 },
 "nbformat": 4,
 "nbformat_minor": 2
}
